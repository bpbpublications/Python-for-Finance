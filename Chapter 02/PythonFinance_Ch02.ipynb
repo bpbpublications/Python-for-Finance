{
  "cells": [
    {
      "cell_type": "markdown",
      "metadata": {
        "id": "I-0r9DD4xQSk"
      },
      "source": [
        "# Chapter 2. Python Tools for Data Analysis: Primer to Pandas and NumPy"
      ]
    },
    {
      "cell_type": "markdown",
      "metadata": {
        "id": "6O6S7bQTxjqO"
      },
      "source": [
        "## Creation and Manipulation with Python data structures"
      ]
    },
    {
      "cell_type": "markdown",
      "metadata": {
        "id": "aL-hYKJp5Ovl"
      },
      "source": [
        "## Appling data analysis operations with combinations of Python data structures"
      ]
    },
    {
      "cell_type": "markdown",
      "metadata": {
        "id": "f4hCpF0_MAAl"
      },
      "source": [
        "#### Basic data manipulations and computations"
      ]
    },
    {
      "cell_type": "code",
      "execution_count": null,
      "metadata": {
        "id": "EM3rXgdFinRV"
      },
      "outputs": [],
      "source": [
        "# Finding tasks for data analysis"
      ]
    },
    {
      "cell_type": "code",
      "execution_count": 6,
      "metadata": {
        "id": "vCYLyaNyjqRR"
      },
      "outputs": [],
      "source": [
        "# Create the lists of dates and closing prices\n",
        "# Updated lists of dates and closing prices\n",
        "dates = [\n",
        "    \"2023-08-01\", \"2023-08-02\", \"2023-08-03\", \"2023-08-04\",\n",
        "    \"2023-08-07\", \"2023-08-08\", \"2023-08-09\", \"2023-08-10\"\n",
        "]\n",
        "closing_prices = [\n",
        "    195.6100, 192.5800, 191.1700, 181.9900,\n",
        "    178.8500, 179.8000, 178.1900, 177.9700\n",
        "]"
      ]
    },
    {
      "cell_type": "code",
      "execution_count": null,
      "metadata": {
        "colab": {
          "base_uri": "https://localhost:8080/"
        },
        "id": "CbjchgTd6gzS",
        "outputId": "9dc88cd5-1576-4add-db7c-bc7868a010f1"
      },
      "outputs": [
        {
          "name": "stdout",
          "output_type": "stream",
          "text": [
            "The price was 195.61 on 2023-08-01\n",
            "The price was 192.58 on 2023-08-02\n",
            "The price was 191.17 on 2023-08-03\n",
            "The price was 181.99 on 2023-08-04\n"
          ]
        }
      ],
      "source": [
        "# Find all prices and dates in closing_prices which is greater than 180\n",
        "for i in closing_prices:\n",
        "    if i > 180:\n",
        "      print(f\"The price was {i} on {dates[closing_prices.index(i)]}\")"
      ]
    },
    {
      "cell_type": "code",
      "execution_count": null,
      "metadata": {
        "colab": {
          "base_uri": "https://localhost:8080/"
        },
        "id": "ohjpxhnOj2h8",
        "outputId": "372be7a5-2035-4f33-c4a0-9af3eb0e0a74"
      },
      "outputs": [
        {
          "name": "stdout",
          "output_type": "stream",
          "text": [
            "The minimum close price was 177.97 on 2023-08-10\n"
          ]
        }
      ],
      "source": [
        "# Find the minimum date and value in the lists\n",
        "m = min(closing_prices)\n",
        "ind = closing_prices.index(m)\n",
        "print(f\"The minimum close price was {m:.2f} on {dates[ind]}\" )"
      ]
    },
    {
      "cell_type": "code",
      "execution_count": null,
      "metadata": {
        "colab": {
          "base_uri": "https://localhost:8080/"
        },
        "id": "x-aKUrRN-nba",
        "outputId": "0cd7edb2-1893-4553-9b33-bcdd6865fecc"
      },
      "outputs": [
        {
          "name": "stdout",
          "output_type": "stream",
          "text": [
            "2023-08-05 is not in the collection\n",
            "2023-08-06 is not in the collection\n"
          ]
        }
      ],
      "source": [
        "# Find which dates are not in the list\n",
        "for day in range(1, 11):\n",
        "  if day < 10:\n",
        "    date = \"2023-08-0\" + str(day)\n",
        "  else:\n",
        "    date = \"2023-08-\" + str(day)\n",
        "  if not(date in dates):\n",
        "    print(f\"{date} is not in the collection\")"
      ]
    },
    {
      "cell_type": "code",
      "execution_count": null,
      "metadata": {
        "colab": {
          "base_uri": "https://localhost:8080/"
        },
        "id": "7PMq0TppnHhP",
        "outputId": "c5ec8839-3e63-4dd9-bf32-b0278d10f247"
      },
      "outputs": [
        {
          "name": "stdout",
          "output_type": "stream",
          "text": [
            "The minimum close price was 177.97 on 2023-08-10\n"
          ]
        }
      ],
      "source": [
        "# Find the minimum date and value in the dictionary\n",
        "data_dict = {\n",
        "    \"date\":   dates,\n",
        "    \"close\":  closing_prices\n",
        "}\n",
        "m = min(data_dict[\"close\"])\n",
        "ind = data_dict[\"close\"].index(m)\n",
        "m_date = data_dict[\"date\"][ind]\n",
        "print(f\"The minimum close price was {m:.2f} on {m_date}\")"
      ]
    },
    {
      "cell_type": "code",
      "execution_count": null,
      "metadata": {
        "id": "dv5srf-nAApL"
      },
      "outputs": [],
      "source": [
        "# Filtering tasks for data analysis"
      ]
    },
    {
      "cell_type": "code",
      "execution_count": null,
      "metadata": {
        "colab": {
          "base_uri": "https://localhost:8080/"
        },
        "id": "b8YrhvVq5kMq",
        "outputId": "fc244b56-7b91-4584-e8f4-5923070ba8a8"
      },
      "outputs": [
        {
          "name": "stdout",
          "output_type": "stream",
          "text": [
            "The list of values > 180:\n",
            " [195.61, 192.58, 191.17, 181.99]\n",
            "The list of values > 190 or values < 180:\n",
            " [195.61, 192.58, 191.17, 178.85, 179.8, 178.19, 177.97]\n"
          ]
        }
      ],
      "source": [
        "# Create a new list\n",
        "new_closing_prices = [i for i in closing_prices if i > 180]\n",
        "print(\"The list of values > 180:\\n\", new_closing_prices)\n",
        "\n",
        "# Find the closing prices where they were either greater than 190 or less than 180\n",
        "selected_closing_prices = [i for i in closing_prices if i > 190 or i < 180]\n",
        "\n",
        "print(\"The list of values > 190 or values < 180:\\n\", selected_closing_prices)"
      ]
    },
    {
      "cell_type": "markdown",
      "metadata": {
        "id": "S52cszsm8y7G"
      },
      "source": [
        "#### Calculating operations for data analysis"
      ]
    },
    {
      "cell_type": "code",
      "execution_count": 1,
      "metadata": {
        "colab": {
          "base_uri": "https://localhost:8080/"
        },
        "id": "CGesfPW0ZHXE",
        "outputId": "ef6d2d5a-8490-4cd0-d477-667c8b9760b2"
      },
      "outputs": [
        {
          "name": "stdout",
          "output_type": "stream",
          "text": [
            "Return on 2023-08-02 is -1.55%\n",
            "Return on 2023-08-03 is -0.73%\n",
            "Return on 2023-08-04 is -4.80%\n",
            "Return on 2023-08-07 is -1.73%\n",
            "Return on 2023-08-08 is 0.53%\n",
            "Return on 2023-08-09 is -0.90%\n",
            "Return on 2023-08-10 is -0.12%\n",
            "CPU times: user 611 µs, sys: 0 ns, total: 611 µs\n",
            "Wall time: 551 µs\n"
          ]
        }
      ],
      "source": [
        "%%time\n",
        "# Create a list of tuples with dates and closing prices\n",
        "data_tuples = [\n",
        "    (\"2023-08-08\", 179.8000), (\"2023-08-01\", 195.6100),\n",
        "    (\"2023-08-02\", 192.5800), (\"2023-08-03\", 191.1700),\n",
        "    (\"2023-08-04\", 181.9900), (\"2023-08-07\", 178.8500),\n",
        "    (\"2023-08-09\", 178.1900), (\"2023-08-10\", 177.9700)\n",
        "]\n",
        "# Sort the data by date (by the first elements of each tuple)\n",
        "data_tuples.sort()\n",
        "# Calculate RoR with looping list creating syntax\n",
        "returns_tuples = [(data_tuples[i][1] - data_tuples[i-1][1]) /\n",
        "                  data_tuples[i-1][1]\n",
        "                  for i in range(1, len(data_tuples))]\n",
        "# Show the RoR by the days\n",
        "for i in range(len(returns_tuples)):\n",
        "    print(f\"Return on {data_tuples[i+1][0]} is {returns_tuples[i]*100:.2f}%\")"
      ]
    },
    {
      "cell_type": "code",
      "execution_count": null,
      "metadata": {
        "colab": {
          "base_uri": "https://localhost:8080/"
        },
        "id": "cVasHmWrn5Wq",
        "outputId": "6aa5bad1-56a3-4195-91b4-54d61a1dc84d"
      },
      "outputs": [
        {
          "name": "stdout",
          "output_type": "stream",
          "text": [
            "2.97 µs ± 863 ns per loop (mean ± std. dev. of 7 runs, 100000 loops each)\n"
          ]
        }
      ],
      "source": [
        "%timeit returns_tuples = [(data_tuples[i][1] - data_tuples[i-1][1]) / data_tuples[i-1][1] for i in range(1, len(data_tuples))]"
      ]
    },
    {
      "cell_type": "code",
      "execution_count": 3,
      "metadata": {
        "colab": {
          "base_uri": "https://localhost:8080/"
        },
        "id": "rqfHv3EYekxt",
        "outputId": "32cf9379-b6ca-49a5-9183-d1b122d7fa92"
      },
      "outputs": [
        {
          "name": "stdout",
          "output_type": "stream",
          "text": [
            "Return on 2023-08-02 for Close prices is -1.55%\n",
            "Return on 2023-08-03 for Close prices is -0.73%\n",
            "Return on 2023-08-04 for Close prices is -4.80%\n",
            "Return on 2023-08-07 for Close prices is -1.73%\n",
            "Return on 2023-08-08 for Close prices is 0.53%\n",
            "Return on 2023-08-09 for Close prices is -0.90%\n",
            "Return on 2023-08-10 for Close prices is -0.12%\n",
            "CPU times: user 4.84 ms, sys: 0 ns, total: 4.84 ms\n",
            "Wall time: 8.82 ms\n"
          ]
        }
      ],
      "source": [
        "%%time\n",
        "# Create a list of dictionaries with dates, open, and close prices\n",
        "data_dicts = [\n",
        "    {\"date\": \"2023-08-01\", \"open\": 196.2400, \"close\": 195.6100},\n",
        "    {\"date\": \"2023-08-02\", \"open\": 195.0400, \"close\": 192.5800},\n",
        "    {\"date\": \"2023-08-03\", \"open\": 191.5700, \"close\": 191.1700},\n",
        "    {\"date\": \"2023-08-04\", \"open\": 185.5200, \"close\": 181.9900},\n",
        "    {\"date\": \"2023-08-07\", \"open\": 182.1300, \"close\": 178.8500},\n",
        "    {\"date\": \"2023-08-08\", \"open\": 179.6900, \"close\": 179.8000},\n",
        "    {\"date\": \"2023-08-09\", \"open\": 180.8700, \"close\": 178.1900},\n",
        "    {\"date\": \"2023-08-10\", \"open\": 179.4800, \"close\": 177.9700} ]\n",
        "# Sort the data by date key\n",
        "data_dicts.sort(key=lambda x: x[\"date\"])\n",
        "# Calculate RoR for Close prices\n",
        "returns_dicts = [(data_dicts[i][\"close\"] - data_dicts[i-1][\"close\"]) /\n",
        "                 data_dicts[i-1][\"close\"]\n",
        "                 for i in range(1, len(data_dicts))]\n",
        "# Show the RoR by the days\n",
        "for i in range(len(returns_dicts)):\n",
        "    d = data_dicts[i+1]['date']\n",
        "    r = returns_dicts[i]\n",
        "    print(f\"Return on {d} for Close prices is {r*100:.2f}%\")"
      ]
    },
    {
      "cell_type": "code",
      "execution_count": null,
      "metadata": {
        "colab": {
          "base_uri": "https://localhost:8080/"
        },
        "id": "sjFdLG5xoAKp",
        "outputId": "c94f645b-f015-43d7-f2f5-7f16074b8b04"
      },
      "outputs": [
        {
          "name": "stdout",
          "output_type": "stream",
          "text": [
            "5.19 µs ± 654 ns per loop (mean ± std. dev. of 7 runs, 100000 loops each)\n"
          ]
        }
      ],
      "source": [
        "%timeit returns_dicts = [(data_dicts[i][\"close\"] - data_dicts[i-1][\"close\"]) / data_dicts[i-1][\"close\"] for i in range(1, len(data_dicts))]"
      ]
    },
    {
      "cell_type": "markdown",
      "metadata": {
        "id": "L5RSZLLamVEW"
      },
      "source": [
        "## Custom function and Python workflow"
      ]
    },
    {
      "cell_type": "code",
      "execution_count": null,
      "metadata": {
        "colab": {
          "base_uri": "https://localhost:8080/"
        },
        "id": "sj9S4wJLz84i",
        "outputId": "3ea7d2ef-f1f6-4376-fb03-71b7bc00f579"
      },
      "outputs": [
        {
          "name": "stdout",
          "output_type": "stream",
          "text": [
            "False\n",
            "True\n"
          ]
        }
      ],
      "source": [
        "# Simple function\n",
        "def is_positive(x):\n",
        "  if x > 0:\n",
        "    return True\n",
        "  else:\n",
        "    return False\n",
        "print(is_positive(-1))\n",
        "print(is_positive(0.1))"
      ]
    },
    {
      "cell_type": "code",
      "execution_count": 7,
      "metadata": {
        "colab": {
          "base_uri": "https://localhost:8080/"
        },
        "id": "eH6szR1SCdOK",
        "outputId": "c8a4fbcb-0114-41f2-c57c-af45f05e747e"
      },
      "outputs": [
        {
          "name": "stdout",
          "output_type": "stream",
          "text": [
            "False\n",
            "True\n"
          ]
        }
      ],
      "source": [
        "# The same and simpler version\n",
        "def is_positive(x):\n",
        "    return (x > 0)\n",
        "print(is_positive(-1))\n",
        "print(is_positive(0.1))"
      ]
    },
    {
      "cell_type": "code",
      "execution_count": 18,
      "metadata": {
        "colab": {
          "base_uri": "https://localhost:8080/"
        },
        "id": "nM66rONCmdRT",
        "outputId": "df1a4047-54fc-462c-8611-049850539273"
      },
      "outputs": [
        {
          "name": "stdout",
          "output_type": "stream",
          "text": [
            "184.5\n",
            "Mean: 184.52, Standart Deviation: 6.86\n"
          ]
        }
      ],
      "source": [
        "# Function with predefined name and numbers of arguments\n",
        "def mean_for_list(data:list, rnd = 2, sd = False) -> float:\n",
        "  mean_value = sum(data)/len(data)\n",
        "  if sd:\n",
        "    sd_value = ( sum([(x - mean_value)**2 for x in data]) /\n",
        "                len(data) ) ** 0.5\n",
        "    return (round(mean_value, rnd),\n",
        "            round(sd_value, rnd) )\n",
        "  else:\n",
        "    return round(mean_value, rnd)\n",
        "print(mean_for_list(closing_prices, rnd=1))\n",
        "mean, sd = mean_for_list(closing_prices, sd=True)\n",
        "print(f\"Mean: {mean:.2f}, Standart Deviation: {sd:.2f}\")"
      ]
    },
    {
      "cell_type": "code",
      "execution_count": 1,
      "metadata": {
        "id": "7W3seTwJxNge"
      },
      "outputs": [
        {
          "name": "stdout",
          "output_type": "stream",
          "text": [
            "False\n",
            "True\n"
          ]
        }
      ],
      "source": [
        "# lambda functions\n",
        "is_positive = lambda x: x > 0\n",
        "print(is_positive(-1))  # Output: False\n",
        "print(is_positive(0.1))  # Output: True"
      ]
    },
    {
      "cell_type": "code",
      "execution_count": null,
      "metadata": {},
      "outputs": [],
      "source": [
        "print((lambda x: x > 0)(-1))  # Output: False\n",
        "print((lambda x: x > 0)(0.1))  # Output: True"
      ]
    },
    {
      "cell_type": "markdown",
      "metadata": {
        "id": "oAHI7QyKmeHb"
      },
      "source": [
        "## NumPy for Data Analysis"
      ]
    },
    {
      "cell_type": "code",
      "execution_count": 20,
      "metadata": {
        "id": "V7tbtksSmpab"
      },
      "outputs": [],
      "source": [
        "import numpy as np"
      ]
    },
    {
      "cell_type": "code",
      "execution_count": 21,
      "metadata": {
        "colab": {
          "base_uri": "https://localhost:8080/"
        },
        "id": "OC0I_3aV31U_",
        "outputId": "dc5d4c64-7b25-4ef6-b806-39b4e695a301"
      },
      "outputs": [
        {
          "name": "stdout",
          "output_type": "stream",
          "text": [
            "The NumPy array for for observation dates \n",
            " ['2023-08-01' '2023-08-09' '2023-08-02' '2023-08-03' '2023-08-04'\n",
            " '2023-08-07' '2023-08-08' '2023-08-10']\n",
            "2D NumPy array for OHLC data \n",
            " [[196.24 198.   195.   195.61]\n",
            " [180.87 182.   178.5  178.19]\n",
            " [195.04 197.5  193.   192.58]\n",
            " [191.57 192.5  190.   191.17]\n",
            " [185.52 188.   184.5  181.99]\n",
            " [182.13 183.4  178.   178.85]\n",
            " [179.69 181.5  178.8  179.8 ]\n",
            " [179.48 181.   177.   177.97]]\n"
          ]
        }
      ],
      "source": [
        "import numpy as np\n",
        "# 1D NumPy array\n",
        "dates = np.array([\n",
        "    \"2023-08-01\",\n",
        "    \"2023-08-09\", # This date is out of place by date sorting\n",
        "    \"2023-08-02\", \"2023-08-03\", \"2023-08-04\",\n",
        "    \"2023-08-07\", \"2023-08-08\", \"2023-08-10\",\n",
        "])\n",
        "print(\"The NumPy array for observation dates \\n\", dates)\n",
        "# 2D NumPy array. Format: [Open, High, Low, Close]\n",
        "apple_ohlc = np.array([\n",
        "    [196.24, 198.00, 195.00, 195.61],  # 1st Aug\n",
        "    [180.87, 182.00, 178.50, 178.19],  # 9th Aug !\n",
        "    [195.04, 197.50, 193.00, 192.58],  # 2nd Aug\n",
        "    [191.57, 192.50, 190.00, 191.17],  # 3rd Aug\n",
        "    [185.52, 188.00, 184.50, 181.99],  # 4th Aug\n",
        "    [182.13, 183.40, 178.00, 178.85],  # 7th Aug\n",
        "    [179.69, 181.50, 178.80, 179.80],  # 8th Aug\n",
        "    [179.48, 181.00, 177.00, 177.97],]) # 10th Aug\n",
        "print(\"2D NumPy array for OHLC data \\n\", apple_ohlc)"
      ]
    },
    {
      "cell_type": "code",
      "execution_count": 22,
      "metadata": {
        "colab": {
          "base_uri": "https://localhost:8080/"
        },
        "id": "kIPyYXsD7007",
        "outputId": "7c4e4b73-12f9-4a19-d811-5883325a91d6"
      },
      "outputs": [
        {
          "name": "stdout",
          "output_type": "stream",
          "text": [
            "2023-08-09\n",
            "178.19\n",
            "['2023-08-01' '2023-08-10' '2023-08-03']\n",
            "[[196.24 198.   195.   195.61]\n",
            " [179.48 181.   177.   177.97]\n",
            " [191.57 192.5  190.   191.17]]\n",
            "[198.  181.  192.5]\n",
            "['2023-08-01' '2023-08-03' '2023-08-10']\n",
            "[[196.24 198.   195.   195.61]\n",
            " [191.57 192.5  190.   191.17]\n",
            " [179.48 181.   177.   177.97]]\n",
            "[196.24 191.57 179.48]\n",
            "[195.61 191.17 177.97]\n"
          ]
        }
      ],
      "source": [
        "# Fetching specific data points using direct indexing\n",
        "print(dates[1])\n",
        "print(apple_ohlc[1, 3])\n",
        "# Accessing non-consecutive dates and their entire OHLC data using list-based indexing\n",
        "print(dates[[0, 7, 3]])\n",
        "print(apple_ohlc[[0, 7, 3],:])\n",
        "# Extracting specific high prices using a combination of row and column indices\n",
        "print(apple_ohlc[[0, 7, 3],[1]])\n",
        "# Storing and utilizing indices through a list for reusability and clarity\n",
        "indices = [0, 3, 7]\n",
        "print(dates[indices])\n",
        "print(apple_ohlc[indices])\n",
        "print(apple_ohlc[indices, 0])\n",
        "print(apple_ohlc[indices, 3])"
      ]
    },
    {
      "cell_type": "code",
      "execution_count": 23,
      "metadata": {
        "colab": {
          "base_uri": "https://localhost:8080/"
        },
        "id": "Et5aXYxRBgb8",
        "outputId": "6eef2be4-8034-42e3-82c6-3458582f9ed9"
      },
      "outputs": [
        {
          "name": "stdout",
          "output_type": "stream",
          "text": [
            "Dates sorted in ascending order:\n",
            " ['2023-08-01' '2023-08-02' '2023-08-03' '2023-08-04' '2023-08-07'\n",
            " '2023-08-08' '2023-08-09' '2023-08-10']\n",
            "Indices that would sort 'dates':\n",
            " [0 2 3 4 5 6 1 7]\n",
            "OHLC data sorted by 'dates':\n",
            " [[196.24 198.   195.   195.61]\n",
            " [195.04 197.5  193.   192.58]\n",
            " [191.57 192.5  190.   191.17]\n",
            " [185.52 188.   184.5  181.99]\n",
            " [182.13 183.4  178.   178.85]\n",
            " [179.69 181.5  178.8  179.8 ]\n",
            " [180.87 182.   178.5  178.19]\n",
            " [179.48 181.   177.   177.97]]\n",
            "Dates sorted by Close prices:\n",
            " ['2023-08-10' '2023-08-09' '2023-08-07' '2023-08-08' '2023-08-04'\n",
            " '2023-08-03' '2023-08-02' '2023-08-01']\n"
          ]
        }
      ],
      "source": [
        "sorted_dates = np.sort(dates)\n",
        "print(\"Dates sorted in ascending order:\\n\", sorted_dates)\n",
        "sorted_date_indices = np.argsort(dates)\n",
        "print(\"Indices that would sort 'dates':\\n\", sorted_date_indices)\n",
        "apple_ohlc_sorted_by_date = apple_ohlc[sorted_date_indices]\n",
        "print(\"OHLC data sorted by 'dates':\\n\", apple_ohlc_sorted_by_date)\n",
        "sorted_close_price_indices = np.argsort(apple_ohlc[:, 3])\n",
        "dates_sorted_by_close_price = dates[sorted_close_price_indices]\n",
        "print(\"Dates sorted by Close prices:\\n\", dates_sorted_by_close_price)"
      ]
    },
    {
      "cell_type": "code",
      "execution_count": 24,
      "metadata": {
        "colab": {
          "base_uri": "https://localhost:8080/"
        },
        "id": "PIFjbQTjBgX3",
        "outputId": "ce472109-e3b9-435c-bf60-4b5af75439bc"
      },
      "outputs": [
        {
          "name": "stdout",
          "output_type": "stream",
          "text": [
            "Modified Dates Array:\n",
            " ['2023-08-01' '2023-08-02' '2023-08-05' '2023-08-04' '2023-08-07'\n",
            " '2023-08-08' '2023-08-09' '2023-08-10' '2023-08-11']\n",
            "\n",
            "Modified OHLC Data:\n",
            " [[196.24 198.   195.   195.61]\n",
            " [195.04 197.5  193.   192.58]\n",
            " [184.2  185.5  182.9  183.3 ]\n",
            " [185.52 188.   184.5  181.99]\n",
            " [182.13 183.4  178.   178.85]\n",
            " [179.69 181.5  178.8  179.8 ]\n",
            " [180.87 182.   178.5  178.19]\n",
            " [179.48 181.   177.   177.97]\n",
            " [180.5  183.   179.5  182.4 ]]\n"
          ]
        }
      ],
      "source": [
        "# Appending new data\n",
        "new_date = np.array([\"2023-08-11\"])\n",
        "new_ohlc = np.array([[180.50, 183.00, 179.50, 182.40]])\n",
        "sorted_dates = np.append(sorted_dates, new_date)\n",
        "apple_ohlc_sorted_by_date = np.append(apple_ohlc_sorted_by_date, new_ohlc, axis=0)\n",
        "# Inserting data at the third position (Index 2)\n",
        "insert_date = np.array([\"2023-08-05\"])\n",
        "insert_ohlc = np.array([[184.20, 185.50, 182.90, 183.30]])\n",
        "sorted_dates = np.insert(sorted_dates, 2, insert_date)\n",
        "apple_ohlc_sorted_by_date = np.insert(apple_ohlc_sorted_by_date, 2, insert_ohlc, axis=0)\n",
        "# Deleting data for the date \"2023-08-04\" (which is now at Index 3 after insertion)\n",
        "sorted_dates = np.delete(sorted_dates, 3)\n",
        "apple_ohlc_sorted_by_date = np.delete(apple_ohlc_sorted_by_date, 3, axis=0)\n",
        "print(\"Modified Dates Array:\\n\", sorted_dates)\n",
        "print(\"\\nModified OHLC Data:\\n\", apple_ohlc_sorted_by_date)"
      ]
    },
    {
      "cell_type": "code",
      "execution_count": null,
      "metadata": {
        "colab": {
          "base_uri": "https://localhost:8080/"
        },
        "id": "xT9qCLODfNrx",
        "outputId": "d3326d7b-4d87-4335-810b-a5295f76aed5"
      },
      "outputs": [
        {
          "data": {
            "text/plain": [
              "array([[196.24, 198.  , 195.  , 195.61],\n",
              "       [195.04, 197.5 , 193.  , 192.58],\n",
              "       [184.2 , 185.5 , 182.9 , 183.3 ],\n",
              "       [185.52, 188.  , 184.5 , 181.99],\n",
              "       [182.13, 183.4 , 178.  , 178.85],\n",
              "       [179.69, 181.5 , 178.8 , 179.8 ],\n",
              "       [180.87, 182.  , 178.5 , 178.19],\n",
              "       [179.48, 181.  , 177.  , 177.97],\n",
              "       [180.5 , 183.  , 179.5 , 182.4 ]])"
            ]
          },
          "execution_count": 56,
          "metadata": {},
          "output_type": "execute_result"
        }
      ],
      "source": [
        "sorted_dates\n",
        "\n",
        "apple_ohlc_sorted_by_date"
      ]
    },
    {
      "cell_type": "code",
      "execution_count": 26,
      "metadata": {
        "colab": {
          "base_uri": "https://localhost:8080/"
        },
        "id": "DeCJVY1bBgUc",
        "outputId": "768c374b-1a29-45a3-b260-9cd6fcb5e12f"
      },
      "outputs": [
        {
          "name": "stdout",
          "output_type": "stream",
          "text": [
            "Transposed OHLC Data:\n",
            " [[196.24 195.04 184.2  185.52 182.13 179.69 180.87 179.48 180.5 ]\n",
            " [198.   197.5  185.5  188.   183.4  181.5  182.   181.   183.  ]\n",
            " [195.   193.   182.9  184.5  178.   178.8  178.5  177.   179.5 ]\n",
            " [195.61 192.58 183.3  181.99 178.85 179.8  178.19 177.97 182.4 ]]\n",
            "\n",
            "Splitted array is \n",
            " [array([[196.24, 195.04, 184.2 , 185.52, 182.13, 179.69, 180.87, 179.48,\n",
            "        180.5 ]]), array([[198. , 197.5, 185.5, 188. , 183.4, 181.5, 182. , 181. , 183. ]]), array([[195. , 193. , 182.9, 184.5, 178. , 178.8, 178.5, 177. , 179.5]]), array([[195.61, 192.58, 183.3 , 181.99, 178.85, 179.8 , 178.19, 177.97,\n",
            "        182.4 ]])]\n",
            "\n",
            "Split 1:\n",
            " [[196.24 195.04 184.2  185.52 182.13 179.69 180.87 179.48 180.5 ]]\n",
            "\n",
            "Split 2:\n",
            " [[198.  197.5 185.5 188.  183.4 181.5 182.  181.  183. ]]\n",
            "\n",
            "Split 3:\n",
            " [[195.  193.  182.9 184.5 178.  178.8 178.5 177.  179.5]]\n",
            "\n",
            "Split 4:\n",
            " [[195.61 192.58 183.3  181.99 178.85 179.8  178.19 177.97 182.4 ]]\n",
            "\n",
            "Concatenated Data:\n",
            " [[196.24 195.04 184.2  185.52 182.13 179.69 180.87 179.48 180.5  198.\n",
            "  197.5  185.5  188.   183.4  181.5  182.   181.   183.   195.   193.\n",
            "  182.9  184.5  178.   178.8  178.5  177.   179.5  195.61 192.58 183.3\n",
            "  181.99 178.85 179.8  178.19 177.97 182.4 ]]\n",
            "\n",
            "Horizontally Stacked Open Price Data:\n",
            " [196.24 195.04 184.2  185.52 182.13 179.69 180.87 179.48 180.5 ]\n",
            "\n",
            "Vertically Stacked Data:\n",
            " [[196.24 195.04 184.2  185.52 182.13 179.69 180.87 179.48 180.5 ]\n",
            " [198.   197.5  185.5  188.   183.4  181.5  182.   181.   183.  ]\n",
            " [195.   193.   182.9  184.5  178.   178.8  178.5  177.   179.5 ]\n",
            " [195.61 192.58 183.3  181.99 178.85 179.8  178.19 177.97 182.4 ]]\n",
            "\n",
            "Reshaped Dates (3x3):\n",
            " [['2023-08-01' '2023-08-02' '2023-08-05']\n",
            " ['2023-08-04' '2023-08-07' '2023-08-08']\n",
            " ['2023-08-09' '2023-08-10' '2023-08-11']]\n",
            "\n",
            "Reshaped Dates (9x1):\n",
            " [['2023-08-01']\n",
            " ['2023-08-02']\n",
            " ['2023-08-05']\n",
            " ['2023-08-04']\n",
            " ['2023-08-07']\n",
            " ['2023-08-08']\n",
            " ['2023-08-09']\n",
            " ['2023-08-10']\n",
            " ['2023-08-11']]\n"
          ]
        }
      ],
      "source": [
        "# Shape Manipulation\n",
        "transposed_ohlc = apple_ohlc_sorted_by_date.T\n",
        "print(\"Transposed OHLC Data:\\n\", transposed_ohlc)\n",
        "split_arrays = np.split(transposed_ohlc, 4, axis=0)\n",
        "print(\"\\nSplitted array is \\n\", split_arrays)\n",
        "for idx, arr in enumerate(split_arrays):\n",
        "    print(f\"\\nSplit {idx + 1}:\\n\", arr)\n",
        "concatenated_data = np.concatenate(split_arrays, axis=1)\n",
        "print(\"\\nConcatenated Data:\\n\", concatenated_data)\n",
        "horizontal_stack = np.hstack(split_arrays[0])\n",
        "print(\"\\nHorizontally Stacked Open Price Data:\\n\", horizontal_stack)\n",
        "vertical_stack = np.vstack(split_arrays)\n",
        "print(\"\\nVertically Stacked Data:\\n\", vertical_stack)\n",
        "reshaped_dates_3x3 = sorted_dates.reshape(3, 3)\n",
        "print(\"\\nReshaped Dates (3x3):\\n\", reshaped_dates_3x3)\n",
        "reshaped_dates_col = sorted_dates.reshape(9, 1)\n",
        "print(\"\\nReshaped Dates (9x1):\\n\", reshaped_dates_col)"
      ]
    },
    {
      "cell_type": "code",
      "execution_count": 28,
      "metadata": {
        "colab": {
          "base_uri": "https://localhost:8080/"
        },
        "id": "C9mJ8xIRnL7B",
        "outputId": "e5b5447e-2a47-44c4-934c-ad6051fd84aa"
      },
      "outputs": [
        {
          "name": "stdout",
          "output_type": "stream",
          "text": [
            "\n",
            " Date index for 2023-08-04 or 2023-08-01:\n",
            "[0 3]\n",
            "\n",
            " OHLC data for the specific date:\n",
            "[[196.24 198.   195.   195.61]\n",
            " [185.52 188.   184.5  181.99]]\n",
            "\n",
            " Date with the highest close price:\n",
            "2023-08-01\n",
            "\n",
            " Dates with close price above 190:\n",
            "['2023-08-01' '2023-08-02']\n",
            "\n",
            " Dates with open price between 180 and 190:\n",
            "['2023-08-05' '2023-08-04' '2023-08-07' '2023-08-09' '2023-08-11']\n"
          ]
        }
      ],
      "source": [
        "# Find Values and Filtering Operations\n",
        "date_index = np.where((sorted_dates == \"2023-08-04\") |\n",
        "                      (sorted_dates == \"2023-08-01\"))[0]\n",
        "print(\"\\ Date index for 2023-08-04 or 2023-08-01:\")\n",
        "print(date_index)\n",
        "ohlc_on_specific_date = apple_ohlc_sorted_by_date[date_index]\n",
        "print(\"\\n OHLC data for the specific date:\")\n",
        "print(ohlc_on_specific_date)\n",
        "highest_close_index = np.argmax(apple_ohlc_sorted_by_date[:, 3])\n",
        "date_with_highest_close = sorted_dates[highest_close_index]\n",
        "print(\"\\n Date with the highest close price:\")\n",
        "print(date_with_highest_close)\n",
        "above_threshold_dates = sorted_dates[apple_ohlc_sorted_by_date[:, 3] > 190]\n",
        "print(\"\\n Dates with close prices above 190:\")\n",
        "print(above_threshold_dates)\n",
        "between_threshold_dates = sorted_dates[(apple_ohlc_sorted_by_date[:, 0] < 190) &\n",
        "                                       (apple_ohlc_sorted_by_date[:, 0] > 180)]\n",
        "print(\"\\n Dates with open prices between 180 and 190:\")\n",
        "print(between_threshold_dates)"
      ]
    },
    {
      "cell_type": "code",
      "execution_count": null,
      "metadata": {
        "id": "10QZpksEFvMN"
      },
      "outputs": [],
      "source": [
        "# Arithmetical and Statistical Operations"
      ]
    },
    {
      "cell_type": "code",
      "execution_count": 30,
      "metadata": {
        "colab": {
          "base_uri": "https://localhost:8080/"
        },
        "id": "hCI65hix2pA2",
        "outputId": "7de305ea-07d6-4e1a-b3c2-d14c86e32d55"
      },
      "outputs": [
        {
          "name": "stdout",
          "output_type": "stream",
          "text": [
            "CPU times: user 3 µs, sys: 0 ns, total: 3 µs\n",
            "Wall time: 7.39 µs\n",
            "Statistical measures for OHLC data:\n",
            " [[184.85222222 182.13        36.8959284    6.07420187]\n",
            " [186.65555556 183.4         39.29358025   6.26845916]\n",
            " [183.02222222 179.5         39.71061728   6.30163608]\n",
            " [183.41       181.99        36.29391111   6.02444281]]\n",
            "Rate of Return for each day:\n",
            " [[-0.00611496 -0.00252525 -0.01025641 -0.01549001]\n",
            " [-0.05557834 -0.06075949 -0.05233161 -0.04818777]\n",
            " [ 0.00716612  0.01347709  0.00874795 -0.00714675]\n",
            " [-0.01827296 -0.02446809 -0.03523035 -0.0172537 ]\n",
            " [-0.01339702 -0.01035987  0.00449438  0.00531171]\n",
            " [ 0.00656687  0.00275482 -0.00167785 -0.00895439]\n",
            " [-0.00768508 -0.00549451 -0.00840336 -0.00123464]\n",
            " [ 0.00568308  0.01104972  0.01412429  0.02489184]]\n",
            "Logarithmic version of the Rate of Return for each day:\n",
            " [[-0.00613373 -0.00252845 -0.01030937 -0.01561123]\n",
            " [-0.05718254 -0.0626837  -0.05375063 -0.0493875 ]\n",
            " [ 0.00714057  0.01338708  0.00870991 -0.00717241]\n",
            " [-0.01844198 -0.0247724  -0.03586591 -0.01740427]\n",
            " [-0.01348757 -0.01041391  0.00448431  0.00529766]\n",
            " [ 0.0065454   0.00275103 -0.00167926 -0.00899473]\n",
            " [-0.00771476 -0.00550966 -0.00843887 -0.0012354 ]\n",
            " [ 0.005667    0.01098912  0.01402548  0.02458708]]\n"
          ]
        }
      ],
      "source": [
        "%time\n",
        "# Combining results into a single array for display\n",
        "stats_array = np.array([\n",
        "    apple_ohlc_sorted_by_date.mean(axis=0),\n",
        "    np.median(apple_ohlc_sorted_by_date, axis=0),\n",
        "    np.var(apple_ohlc_sorted_by_date, axis=0),\n",
        "    np.std(apple_ohlc_sorted_by_date, axis=0)])\n",
        "print(\"Statistical measures for OHLC data:\\n\", stats_array.T)\n",
        "# Rate of Return calculation\n",
        "ror_ohlc = (apple_ohlc_sorted_by_date[1:] - apple_ohlc_sorted_by_date[:-1]) / apple_ohlc_sorted_by_date[:-1]\n",
        "print(\"Rate of Return for each day:\\n\", ror_ohlc)\n",
        "# Logarithmic version of the Rate of Return calculation\n",
        "ror_ohlc_log = np.log(apple_ohlc_sorted_by_date[1:] / apple_ohlc_sorted_by_date[:-1])\n",
        "print(\"Logarithmic version of the Rate of Return for each day:\\n\", ror_ohlc_log)"
      ]
    },
    {
      "cell_type": "code",
      "execution_count": 31,
      "metadata": {
        "colab": {
          "base_uri": "https://localhost:8080/"
        },
        "id": "np-Lbgpy5BZH",
        "outputId": "11fbd980-0b5c-441e-8123-6e69eb32256f"
      },
      "outputs": [
        {
          "name": "stdout",
          "output_type": "stream",
          "text": [
            "1.92 µs ± 479 ns per loop (mean ± std. dev. of 7 runs, 1000000 loops each)\n"
          ]
        }
      ],
      "source": [
        "close_prices = apple_ohlc_sorted_by_date[:, 3]\n",
        "%timeit ror = (close_prices[1:] - close_prices[:-1]) / close_prices[:-1]"
      ]
    },
    {
      "cell_type": "code",
      "execution_count": 32,
      "metadata": {
        "colab": {
          "base_uri": "https://localhost:8080/"
        },
        "id": "Y-nUU6a3mpA7",
        "outputId": "dcc5de74-9620-4b42-d731-984f72424601"
      },
      "outputs": [
        {
          "name": "stdout",
          "output_type": "stream",
          "text": [
            "[[False False False False]\n",
            " [False False False False]\n",
            " [ True  True  True False]\n",
            " [False False False False]\n",
            " [False False  True  True]\n",
            " [ True  True False False]\n",
            " [False False False False]\n",
            " [ True  True  True  True]]\n"
          ]
        }
      ],
      "source": [
        "is_positive_v = np.vectorize(is_positive)\n",
        "\n",
        "print(is_positive_v(ror_ohlc))"
      ]
    },
    {
      "cell_type": "markdown",
      "metadata": {
        "id": "9G6UZW75mp-a"
      },
      "source": [
        "## Working with Pandas for Data Analysis"
      ]
    },
    {
      "cell_type": "code",
      "execution_count": 33,
      "metadata": {
        "id": "BiW5yVG8mwrN"
      },
      "outputs": [],
      "source": [
        "import numpy as np\n",
        "import pandas as pd"
      ]
    },
    {
      "cell_type": "code",
      "execution_count": null,
      "metadata": {
        "colab": {
          "base_uri": "https://localhost:8080/"
        },
        "id": "OoGHdDV3mwgn",
        "outputId": "e7d1b6c2-ce11-47c0-922f-3622789d0ea9"
      },
      "outputs": [
        {
          "name": "stdout",
          "output_type": "stream",
          "text": [
            "Series is \n",
            " 2023-08-01    195.61\n",
            "2023-08-09    178.19\n",
            "2023-08-02    192.58\n",
            "2023-08-03    191.17\n",
            "2023-08-04    181.99\n",
            "2023-08-07    178.85\n",
            "2023-08-08    179.80\n",
            "2023-08-10    177.97\n",
            "Name: Close Prices, dtype: float64\n",
            "\n",
            "DataFrame is \n",
            "               Open   High    Low   Close\n",
            "2023-08-01  196.24  198.0  195.0  195.61\n",
            "2023-08-09  180.87  182.0  178.5  178.19\n",
            "2023-08-02  195.04  197.5  193.0  192.58\n",
            "2023-08-03  191.57  192.5  190.0  191.17\n",
            "2023-08-04  185.52  188.0  184.5  181.99\n",
            "2023-08-07  182.13  183.4  178.0  178.85\n",
            "2023-08-08  179.69  181.5  178.8  179.80\n",
            "2023-08-10  179.48  181.0  177.0  177.97\n"
          ]
        }
      ],
      "source": [
        "dates = np.array([\n",
        "    \"2023-08-01\", \"2023-08-09\", \"2023-08-02\",\n",
        "    \"2023-08-03\", \"2023-08-04\", \"2023-08-07\",\n",
        "    \"2023-08-08\", \"2023-08-10\",\n",
        "])\n",
        "\n",
        "apple_ohlc = np.array([\n",
        "    [196.24, 198.00, 195.00, 195.61],  # 1st Aug\n",
        "    [180.87, 182.00, 178.50, 178.19],  # 9th Aug !\n",
        "    [195.04, 197.50, 193.00, 192.58],  # 2nd Aug\n",
        "    [191.57, 192.50, 190.00, 191.17],  # 3rd Aug\n",
        "    [185.52, 188.00, 184.50, 181.99],  # 4th Aug\n",
        "    [182.13, 183.40, 178.00, 178.85],  # 7th Aug\n",
        "    [179.69, 181.50, 178.80, 179.80],  # 8th Aug\n",
        "    [179.48, 181.00, 177.00, 177.97],  # 10th Aug\n",
        "])\n",
        "\n",
        "ds = pd.Series(apple_ohlc[:,3], index=dates, name='Close Prices')\n",
        "print(\"Series is \\n\", ds)\n",
        "\n",
        "df = pd.DataFrame(apple_ohlc, index=dates,\n",
        "                  columns=[\"Open\", \"High\", \"Low\", \"Close\"])\n",
        "print(\"\\nDataFrame is \\n\", df)"
      ]
    },
    {
      "cell_type": "code",
      "execution_count": null,
      "metadata": {
        "colab": {
          "base_uri": "https://localhost:8080/"
        },
        "id": "aQe9k1spRoJs",
        "outputId": "f04d308d-53e7-40a3-e49f-f1caeb171cf6"
      },
      "outputs": [
        {
          "name": "stdout",
          "output_type": "stream",
          "text": [
            "The first element in the Series is:  195.61\n",
            "\n",
            "The elements from index 1 to 2 in the Series are: \n",
            " 2023-08-09    178.19\n",
            "2023-08-02    192.58\n",
            "Name: Close Prices, dtype: float64\n",
            "\n",
            "The element in the Series at index '2023-08-02' is:  192.58\n",
            "\n",
            "The elements in the Series from '2023-08-09' to '2023-08-04' are: \n",
            " 2023-08-09    178.19\n",
            "2023-08-02    192.58\n",
            "2023-08-03    191.17\n",
            "2023-08-04    181.99\n",
            "Name: Close Prices, dtype: float64\n",
            "The 'Open' column from the DataFrame is: \n",
            " 2023-08-01    196.24\n",
            "2023-08-09    180.87\n",
            "2023-08-02    195.04\n",
            "2023-08-03    191.57\n",
            "2023-08-04    185.52\n",
            "2023-08-07    182.13\n",
            "2023-08-08    179.69\n",
            "2023-08-10    179.48\n",
            "Name: Open, dtype: float64\n",
            "\n",
            "The 'Open' and 'Close' columns from the DataFrame are: \n",
            "               Open   Close\n",
            "2023-08-01  196.24  195.61\n",
            "2023-08-09  180.87  178.19\n",
            "2023-08-02  195.04  192.58\n",
            "2023-08-03  191.57  191.17\n",
            "2023-08-04  185.52  181.99\n",
            "2023-08-07  182.13  178.85\n",
            "2023-08-08  179.69  179.80\n",
            "2023-08-10  179.48  177.97\n",
            "\n",
            "The 'Close' column values between indexes '2023-08-09' and '2023-08-04' are: \n",
            " 2023-08-09    178.19\n",
            "2023-08-02    192.58\n",
            "2023-08-03    191.17\n",
            "2023-08-04    181.99\n",
            "Name: Close, dtype: float64\n",
            "\n",
            "All column values between '2023-08-09' and '2023-08-04' are: \n",
            "               Open   High    Low   Close\n",
            "2023-08-09  180.87  182.0  178.5  178.19\n",
            "2023-08-02  195.04  197.5  193.0  192.58\n",
            "2023-08-03  191.57  192.5  190.0  191.17\n",
            "2023-08-04  185.52  188.0  184.5  181.99\n",
            "\n",
            "The value at the second row and the third column is:  178.5\n",
            "\n",
            "The values from the second and fourth rows, excluding the last column, are: \n",
            "               Open   High    Low\n",
            "2023-08-09  180.87  182.0  178.5\n",
            "2023-08-03  191.57  192.5  190.0\n"
          ]
        }
      ],
      "source": [
        "# Selecting Values and Slicing Datasets\n",
        "# Series Selection\n",
        "print(\"The first element in the Series is: \",\n",
        "      ds.iloc[0])\n",
        "print(\"\\nThe elements from index 1 to 2 in the Series are: \\n\",\n",
        "      ds[1:3])\n",
        "print(\"\\nThe element in the Series at index '2023-08-02' is: \",\n",
        "      ds[\"2023-08-02\"])\n",
        "print(\"\\nThe elements in the Series from '2023-08-09' to '2023-08-04' are: \\n\",\n",
        "      ds[\"2023-08-09\":\"2023-08-04\"])\n",
        "# DataFrame Selection\n",
        "print(\"The 'Open' column from the DataFrame is: \\n\",\n",
        "      df[\"Open\"])\n",
        "print(\"\\nThe 'Open' and 'Close' columns from the DataFrame are: \\n\",\n",
        "      df[[\"Open\", \"Close\"]])\n",
        "print(\"\\nThe 'Close' column values between indexes '2023-08-09' and '2023-08-04' are: \\n\",\n",
        "      df.loc[\"2023-08-09\":\"2023-08-04\", \"Close\"])\n",
        "print(\"\\nAll column values between '2023-08-09' and '2023-08-04' are: \\n\",\n",
        "      df.loc[\"2023-08-09\":\"2023-08-04\", :])\n",
        "print(\"\\nThe value at the second row and the third column is: \",\n",
        "      df.iloc[1, 2])\n",
        "print(\"\\nThe values from the second and fourth rows, excluding the last column, are: \\n\",\n",
        "      df.iloc[[1, 3], :-1])"
      ]
    },
    {
      "cell_type": "code",
      "execution_count": null,
      "metadata": {
        "colab": {
          "base_uri": "https://localhost:8080/"
        },
        "id": "bNj7LO69DHIB",
        "outputId": "8de9c276-0b00-410f-fbc4-54db2cf71c0b"
      },
      "outputs": [
        {
          "name": "stdout",
          "output_type": "stream",
          "text": [
            "Elements in Series > 190: \n",
            " 2023-08-01     True\n",
            "2023-08-09    False\n",
            "2023-08-02     True\n",
            "2023-08-03     True\n",
            "2023-08-04    False\n",
            "2023-08-07    False\n",
            "2023-08-08    False\n",
            "2023-08-10    False\n",
            "Name: Close Prices, dtype: bool\n",
            "\n",
            "Series where elements > 190: \n",
            " 2023-08-01    195.61\n",
            "2023-08-02    192.58\n",
            "2023-08-03    191.17\n",
            "Name: Close Prices, dtype: float64\n",
            "\n",
            "Series element at index '2023-08-03': \n",
            " 2023-08-03    191.17\n",
            "Name: Close Prices, dtype: float64\n",
            "\n",
            "DataFrame where 'Open' > 190 and 'Close' < 192: \n",
            "               Open   High    Low   Close\n",
            "2023-08-03  191.57  192.5  190.0  191.17\n",
            "\n",
            "DataFrame where 'Open' is greater than 'Close': \n",
            "               Open   High    Low   Close\n",
            "2023-08-01  196.24  198.0  195.0  195.61\n",
            "2023-08-09  180.87  182.0  178.5  178.19\n",
            "2023-08-02  195.04  197.5  193.0  192.58\n",
            "2023-08-03  191.57  192.5  190.0  191.17\n",
            "2023-08-04  185.52  188.0  184.5  181.99\n",
            "2023-08-07  182.13  183.4  178.0  178.85\n",
            "2023-08-10  179.48  181.0  177.0  177.97\n",
            "\n",
            "DataFrame where 'Close' is in [192.58, 178.19]: \n",
            "               Open   High    Low   Close\n",
            "2023-08-09  180.87  182.0  178.5  178.19\n",
            "2023-08-02  195.04  197.5  193.0  192.58\n",
            "\n",
            "DataFrame at index '2023-08-03': \n",
            "               Open   High    Low   Close\n",
            "2023-08-03  191.57  192.5  190.0  191.17\n",
            "\n",
            "DataFrame at indices ['2023-08-03','2023-08-09']: \n",
            "               Open   High    Low   Close\n",
            "2023-08-09  180.87  182.0  178.5  178.19\n",
            "2023-08-03  191.57  192.5  190.0  191.17\n",
            "\n",
            "DataFrame where 'Open' > 180, 'Open' < 190, and 'Close' != 181.99: \n",
            "               Open   High    Low   Close\n",
            "2023-08-09  180.87  182.0  178.5  178.19\n",
            "2023-08-07  182.13  183.4  178.0  178.85\n",
            "\n",
            "Subset DataFrame where 'Open' > 180, 'Open' < 190, and 'Close' != 181.99: \n",
            "               Open   High    Low   Close\n",
            "2023-08-09  180.87  182.0  178.5  178.19\n",
            "2023-08-07  182.13  183.4  178.0  178.85\n"
          ]
        }
      ],
      "source": [
        "# Dataset Filtering\n",
        "# Series\n",
        "print(\"Elements in Series > 190: \\n\",\n",
        "      ds > 190)\n",
        "print(\"\\nSeries where elements > 190: \\n\",\n",
        "      ds[ds > 190])\n",
        "print(\"\\nSeries element at index '2023-08-03': \\n\",\n",
        "      ds[ds.index == \"2023-08-03\"])\n",
        "# DataFrame\n",
        "print(\"\\nDataFrame where 'Open' > 190 and 'Close' < 192: \\n\",\n",
        "      df[(df['Open'] > 190) & (df['Close'] < 192)])\n",
        "print(\"\\nDataFrame where 'Open' is greater than 'Close': \\n\",\n",
        "      df[df['Open'] > df['Close']])\n",
        "print(\"\\nDataFrame where 'Close' is in [192.58, 178.19]: \\n\",\n",
        "      df[df['Close'].isin([192.58, 178.19])])\n",
        "print(\"\\nDataFrame at index '2023-08-03': \\n\",\n",
        "      df[df.index == \"2023-08-03\"])\n",
        "print(\"\\nDataFrame at indices ['2023-08-03','2023-08-09']: \\n\",\n",
        "      df[df.index.isin([\"2023-08-03\", \"2023-08-09\"])])\n",
        "\n",
        "# Combining Conditions\n",
        "print(\"\\nDataFrame where 'Open' > 180, 'Open' < 190, and 'Close' != 181.99: \\n\",\n",
        "      df[(df['Open'] > 180) & (df['Open'] < 190) & (df['Close'] != 181.99)])\n",
        "\n",
        "# Creating a sub-dataframe for the date range and applying the condition\n",
        "subset_df = df.loc[\"2023-08-01\":\"2023-08-08\"]\n",
        "print(\"\\nSubset DataFrame where 'Open' > 180, 'Open' < 190, and 'Close' != 181.99: \\n\",\n",
        "      subset_df[(subset_df['Open'] > 180) & (subset_df['Open'] < 190) & (subset_df['Close'] != 181.99)])\n"
      ]
    },
    {
      "cell_type": "code",
      "execution_count": null,
      "metadata": {
        "colab": {
          "base_uri": "https://localhost:8080/"
        },
        "id": "FGnH6zIbW0Q7",
        "outputId": "8af2e92c-acce-4da9-b9fd-7c2eb6982e0c"
      },
      "outputs": [
        {
          "name": "stdout",
          "output_type": "stream",
          "text": [
            "Modified Series (showing last 3 entries):\n",
            " 2023-08-10    177.97\n",
            "2023-08-11    177.79\n",
            "2023-08-14    179.46\n",
            "Name: Close Prices, dtype: float64\n",
            "Series after value change (showing last 3 entries):\n",
            " 2023-08-10    177.97\n",
            "2023-08-11    177.32\n",
            "2023-08-14    179.46\n",
            "Name: Close Prices, dtype: float64\n",
            "\n",
            "Series after Deletion (showing last 3 entries):\n",
            " 2023-08-07    178.85\n",
            "2023-08-08    179.80\n",
            "2023-08-10    177.97\n",
            "Name: Close Prices, dtype: float64\n",
            "\n",
            "Modified DataFrame (showing last 3 entries):\n",
            "               Open    High     Low   Close\n",
            "2023-08-08  179.69  181.50  178.80  179.80\n",
            "2023-08-10  179.48  181.00  177.00  177.97\n",
            "2023-08-11  177.32  178.62  176.55  177.79\n",
            "\n",
            "Modified DataFrame (showing last 5 entries):\n",
            "               Open    High     Low   Close\n",
            "2023-08-08  179.69  181.50  178.80  179.80\n",
            "2023-08-10  179.48  181.00  177.00  177.97\n",
            "2023-08-11  177.32  178.62  176.55  177.79\n",
            "2023-08-11  177.32  178.62  176.55  177.79\n",
            "2023-08-14  177.97  179.69  177.31  179.46\n",
            "\n",
            "DataFrame after Deletion (showing last 3 entries):\n",
            "               Open    High     Low   Close\n",
            "2023-08-08  179.69  181.50  178.80  179.80\n",
            "2023-08-10  179.48  181.00  177.00  177.97\n",
            "2023-08-14  177.97  179.69  177.31  179.46\n",
            "\n",
            "DataFrame after Deletion (showing last 3 entries):\n",
            "               Open   High    Low   Close\n",
            "2023-08-07  182.13  183.4  178.0  178.85\n",
            "2023-08-08  179.69  181.5  178.8  179.80\n",
            "2023-08-10  179.48  181.0  177.0  177.97\n",
            "\n",
            "DataFrame after Deletion two Columns (showing first 3 entries):\n",
            "               Open   Close\n",
            "2023-08-01  196.24  195.61\n",
            "2023-08-09  180.87  178.19\n",
            "2023-08-02  195.04  192.58\n"
          ]
        }
      ],
      "source": [
        "# Insertion and Deletion of Data\n",
        "# For Series\n",
        "ds_new = pd.Series(data=[177.79, 179.46],\n",
        "                   index=[\"2023-08-11\", \"2023-08-14\"],\n",
        "                   name=ds.name)\n",
        "ds = pd.concat([ds, ds_new]) # method is deprecated\n",
        "print(\"Modified Series (showing last 3 entries):\\n\", ds.tail(3))\n",
        "ds[\"2023-08-11\"] = 177.32\n",
        "print(\"Series after value change (showing last 3 entries):\\n\", ds.tail(3))\n",
        "\n",
        "ds = ds.drop(labels=[\"2023-08-11\", \"2023-08-14\"])\n",
        "print(\"\\nSeries after Deletion (showing last 3 entries):\\n\", ds.tail(3))\n",
        "\n",
        "# For DataFrame\n",
        "df.loc[\"2023-08-11\"] = [177.32, 178.62, 176.55, 177.79]\n",
        "print(\"\\nModified DataFrame (showing last 3 entries):\\n\", df.tail(3))\n",
        "\n",
        "new_df = pd.DataFrame(data=[[177.32, 178.62, 176.55, 177.79],\n",
        "                            [177.97, 179.69, 177.31, 179.46]],\n",
        "                      index=[\"2023-08-11\", \"2023-08-14\"],\n",
        "                      columns=df.columns)\n",
        "df = pd.concat([df, new_df]) # method is deprecated\n",
        "print(\"\\nModified DataFrame (showing last 5 entries):\\n\", df.tail())\n",
        "\n",
        "df = df.drop(labels=[\"2023-08-11\"], axis=0)\n",
        "print(\"\\nDataFrame after Deletion (showing last 3 entries):\\n\", df.tail(3))\n",
        "\n",
        "df.drop(labels=[\"2023-08-14\"], axis=0, inplace=True)\n",
        "print(\"\\nDataFrame after Deletion (showing last 3 entries):\\n\", df.tail(3))\n",
        "\n",
        "print(\"\\nDataFrame after Deletion two Columns (showing first 3 entries):\\n\",\n",
        "      df.drop(labels=[\"High\", \"Low\"], axis=1).head(3))"
      ]
    },
    {
      "cell_type": "code",
      "execution_count": null,
      "metadata": {
        "colab": {
          "base_uri": "https://localhost:8080/"
        },
        "id": "3G5DI6HJj_y0",
        "outputId": "983dfb75-a010-46fb-e3a8-8ff8b61d1eab"
      },
      "outputs": [
        {
          "name": "stdout",
          "output_type": "stream",
          "text": [
            "\n",
            "DataFrame after resetting the index:\n",
            "         index    Open   High    Low   Close\n",
            "0  2023-08-01  196.24  198.0  195.0  195.61\n",
            "1  2023-08-09  180.87  182.0  178.5  178.19\n",
            "2  2023-08-02  195.04  197.5  193.0  192.58\n",
            "\n",
            "DataFrame after renaming the 'index' column to 'Date':\n",
            "          Date    Open   High    Low   Close\n",
            "0  2023-08-01  196.24  198.0  195.0  195.61\n",
            "1  2023-08-09  180.87  182.0  178.5  178.19\n",
            "2  2023-08-02  195.04  197.5  193.0  192.58\n",
            "\n",
            "DataFrame after Reindexing with 'Date':\n",
            "               Open   High    Low   Close\n",
            "Date                                    \n",
            "2023-08-01  196.24  198.0  195.0  195.61\n",
            "2023-08-09  180.87  182.0  178.5  178.19\n",
            "2023-08-02  195.04  197.5  193.0  192.58\n",
            "\n",
            "DataFrame after Right Join:\n",
            "             Close_left    Open   High    Low  Close_right\n",
            "2023-08-01         NaN  196.24  198.0  195.0       195.61\n",
            "2023-08-09      178.19  180.87  182.0  178.5       178.19\n",
            "2023-08-02      192.58  195.04  197.5  193.0       192.58\n",
            "2023-08-03      191.17  191.57  192.5  190.0       191.17\n",
            "2023-08-04      181.99  185.52  188.0  184.5       181.99\n",
            "2023-08-07      178.85  182.13  183.4  178.0       178.85\n",
            "2023-08-08      179.80  179.69  181.5  178.8       179.80\n",
            "2023-08-10         NaN  179.48  181.0  177.0       177.97\n",
            "\n",
            "DataFrame after Left Join:\n",
            "             Close_left    Open   High    Low  Close_right\n",
            "Date                                                     \n",
            "2023-08-09      178.19  180.87  182.0  178.5       178.19\n",
            "2023-08-02      192.58  195.04  197.5  193.0       192.58\n",
            "2023-08-03      191.17  191.57  192.5  190.0       191.17\n",
            "2023-08-04      181.99  185.52  188.0  184.5       181.99\n",
            "2023-08-07      178.85  182.13  183.4  178.0       178.85\n",
            "2023-08-08      179.80  179.69  181.5  178.8       179.80\n",
            "\n",
            "DataFrame sorted by 'Open' values in descending order:\n",
            "               Open   High    Low   Close\n",
            "2023-08-01  196.24  198.0  195.0  195.61\n",
            "2023-08-02  195.04  197.5  193.0  192.58\n",
            "2023-08-03  191.57  192.5  190.0  191.17\n",
            "\n",
            "DataFrame sorted by Index in ascending order:\n",
            "               Open   High    Low   Close\n",
            "2023-08-01  196.24  198.0  195.0  195.61\n",
            "2023-08-02  195.04  197.5  193.0  192.58\n",
            "2023-08-03  191.57  192.5  190.0  191.17\n"
          ]
        }
      ],
      "source": [
        "# Resetting and setting the index\n",
        "df_reset = df.reset_index()\n",
        "print(\"\\nDataFrame after resetting the index:\\n\",\n",
        "      df_reset.head(3))\n",
        "\n",
        "# Renaming the 'index' column to 'Date'\n",
        "df_reset = df_reset.rename(columns={'index': 'Date'})\n",
        "print(\"\\nDataFrame after renaming the 'index' column to 'Date':\\n\",\n",
        "      df_reset.head(3))\n",
        "\n",
        "# Setting 'Date' as the index of the DataFrame\n",
        "df_reset = df_reset.set_index('Date')\n",
        "print(\"\\nDataFrame after Reindexing with 'Date':\\n\",\n",
        "      df_reset.head(3))\n",
        "\n",
        "# Preparing DataFrames for Join operation\n",
        "# Dropping rows with index '2023-08-10' and '2023-08-01'\n",
        "df_reset.drop(labels=[\"2023-08-10\", \"2023-08-01\"], axis=0, inplace=True)\n",
        "\n",
        "# Dropping 'Open', 'High', 'Low' columns\n",
        "df_reset.drop(labels=[\"Open\", \"High\", \"Low\"], axis=1, inplace=True)\n",
        "\n",
        "# Performing Join operations\n",
        "# Right join keeps every row from the right DataFrame, and drops the unmatched rows from the left DataFrame.\n",
        "print(\"\\nDataFrame after Right Join:\\n\",\n",
        "      df_reset.join(df, how=\"right\", lsuffix='_left', rsuffix='_right'))\n",
        "\n",
        "# Left join keeps every row from the left DataFrame, and drops the unmatched rows from the right DataFrame.\n",
        "print(\"\\nDataFrame after Left Join:\\n\",\n",
        "      df_reset.join(df, how=\"left\", lsuffix='_left', rsuffix='_right'))\n",
        "\n",
        "# Sort Operations\n",
        "# Sorting DataFrame by 'Open' column values in descending order\n",
        "df_sorted = df.sort_values(by='Open', ascending=False)\n",
        "print(\"\\nDataFrame sorted by 'Open' values in descending order:\\n\",\n",
        "      df_sorted.head(3))\n",
        "\n",
        "# Sorting DataFrame by Index in ascending order (default)\n",
        "df_sorted = df.sort_index()\n",
        "print(\"\\nDataFrame sorted by Index in ascending order:\\n\",\n",
        "      df_sorted.head(3))"
      ]
    },
    {
      "cell_type": "code",
      "execution_count": null,
      "metadata": {
        "colab": {
          "base_uri": "https://localhost:8080/"
        },
        "id": "AKDPWMb7qefg",
        "outputId": "10a453f6-0778-4173-b9a6-c97767c390b0"
      },
      "outputs": [
        {
          "name": "stdout",
          "output_type": "stream",
          "text": [
            "\n",
            "DataFrame after calculating the Cumulative Product for RoR and Log_RoR:\n",
            "               Open   High    Low   Close  Price_Diff  Log_Close       RoR  \\\n",
            "2023-08-01  196.24  198.0  195.0  195.61         3.0   5.276123       NaN   \n",
            "2023-08-02  195.04  197.5  193.0  192.58         4.5   5.260512 -1.549001   \n",
            "2023-08-03  191.57  192.5  190.0  191.17         2.5   5.253163 -0.732163   \n",
            "2023-08-04  185.52  188.0  184.5  181.99         3.5   5.203952 -4.802009   \n",
            "2023-08-07  182.13  183.4  178.0  178.85         5.4   5.186547 -1.725370   \n",
            "2023-08-08  179.69  181.5  178.8  179.80         2.7   5.191845  0.531171   \n",
            "2023-08-09  180.87  182.0  178.5  178.19         3.5   5.182850 -0.895439   \n",
            "2023-08-10  179.48  181.0  177.0  177.97         4.0   5.181615 -0.123464   \n",
            "\n",
            "             Log_RoR  RoR_Status  Cum_Prod_RoR  Cum_Prod_Log_RoR  \n",
            "2023-08-01       NaN       False           NaN               NaN  \n",
            "2023-08-02 -0.015611       False     -1.549001         -0.015611  \n",
            "2023-08-03 -0.007349       False     -2.269823         -0.022845  \n",
            "2023-08-04 -0.049211       False     -6.962834         -0.070932  \n",
            "2023-08-07 -0.017404       False     -8.568069         -0.087102  \n",
            "2023-08-08  0.005298        True     -8.082409         -0.082266  \n",
            "2023-08-09 -0.008995       False     -8.905475         -0.090520  \n",
            "2023-08-10 -0.001235       False     -9.017944         -0.091644  \n"
          ]
        }
      ],
      "source": [
        "# Calculated values and creating new features\n",
        "df_sorted['Price_Diff'] = df_sorted['High'] - df_sorted['Low']\n",
        "df_sorted['Log_Close'] = np.log(df_sorted['Close'])\n",
        "df_sorted['RoR'] = df_sorted['Close'].pct_change() * 100\n",
        "df_sorted['Log_RoR'] = np.log(df_sorted['Close'] / df_sorted['Close'].shift(1))\n",
        "df_sorted['RoR_Status'] = df_sorted['RoR'].apply(is_positive)\n",
        "df_sorted['Cum_Prod_RoR'] = ((1 + df_sorted['RoR'] / 100).cumprod() - 1) * 100\n",
        "df_sorted['Cum_Prod_Log_RoR'] = (1 + df_sorted['Log_RoR']).cumprod() - 1\n",
        "print(\"\\nDataFrame after calculating the Cumulative Product for RoR and Log_RoR:\\n\",\n",
        "      df_sorted)"
      ]
    },
    {
      "cell_type": "markdown",
      "metadata": {
        "id": "mdAhst_NN_63"
      },
      "source": [
        "## &copy; Dr. Dmytro Zherlitsyn, 2023 <br>\n",
        "## &copy; BPB Publications, 2023"
      ]
    }
  ],
  "metadata": {
    "colab": {
      "provenance": []
    },
    "kernelspec": {
      "display_name": "Python 3",
      "name": "python3"
    },
    "language_info": {
      "name": "python",
      "version": "3.9.19"
    }
  },
  "nbformat": 4,
  "nbformat_minor": 0
}
